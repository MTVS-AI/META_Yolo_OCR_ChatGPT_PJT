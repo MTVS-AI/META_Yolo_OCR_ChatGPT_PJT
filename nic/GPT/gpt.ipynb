{
 "cells": [
  {
   "cell_type": "code",
   "execution_count": null,
   "metadata": {},
   "outputs": [],
   "source": [
    "# !pip install openai\n",
    "# !pip install pandas"
   ]
  },
  {
   "cell_type": "code",
   "execution_count": 7,
   "metadata": {},
   "outputs": [],
   "source": [
    "import openai\n",
    "import os\n",
    "import pandas as pd\n",
    "import time"
   ]
  },
  {
   "cell_type": "code",
   "execution_count": 12,
   "metadata": {},
   "outputs": [
    {
     "name": "stdout",
     "output_type": "stream",
     "text": [
      "I am an AI language model known as GPT-3 developed by OpenAI. I have been trained on a diverse range of texts and can generate human-like responses in natural language. I am designed to assist with various tasks, answer questions, engage in conversations, and provide information on a wide array of topics. However, it is important to note that I do not have personal experiences or consciousness as humans do. Instead, I rely on the data I have been trained on to provide helpful and informative responses. Is there anything specific you would like to know or discuss?\n"
     ]
    }
   ],
   "source": [
    "import os\n",
    "import openai\n",
    "\n",
    "openai.api_key = \"api_key\"\n",
    "\n",
    "completion = openai.ChatCompletion.create(\n",
    "  model=\"gpt-3.5-turbo\",\n",
    "  messages=[{\n",
    "    \"role\": \"user\",\n",
    "    \"content\": \"Tell me about you.\"\n",
    "  }]\n",
    ")  #content에 사용자 입력을 넣어줌\n",
    "\n",
    "if completion:\n",
    "  choice = completion[\"choices\"][0]\n",
    "  response = choice[\"message\"][\"content\"].strip()\n",
    "  print(response)"
   ]
  }
 ],
 "metadata": {
  "kernelspec": {
   "display_name": "myproject",
   "language": "python",
   "name": "python3"
  },
  "language_info": {
   "codemirror_mode": {
    "name": "ipython",
    "version": 3
   },
   "file_extension": ".py",
   "mimetype": "text/x-python",
   "name": "python",
   "nbconvert_exporter": "python",
   "pygments_lexer": "ipython3",
   "version": "3.10.12"
  },
  "orig_nbformat": 4
 },
 "nbformat": 4,
 "nbformat_minor": 2
}
